{
 "cells": [
  {
   "cell_type": "markdown",
   "id": "b37ef67a",
   "metadata": {},
   "source": [
    "# CS50AI Week 0 Search\n",
    "\n",
    "## Search\n",
    "\n",
    "Search problems involve an agent that is given an initial state and a goal state, and it returns a solution of how to get from the former to the latter.\n",
    "\n",
    "Example of seach problem:\n",
    "  - Puzzles\n",
    "  - Mazes\n",
    "  - Navigation\n",
    "\n",
    "### Terminology\n",
    "\n",
    "- **Agent**\n",
    "\n",
    "An entity that perceives its environment and acts upon that environment. \n",
    "\n",
    "In a navigator app, for example, the agent would be a representation of a car that needs to decide on which actions to take to arrive at the destination.\n",
    "\n",
    "\n",
    "- **State**\n",
    "\n",
    "A configuration of the agent and its environment.\n",
    "\n",
    "- **Initial State**\n",
    "\n",
    "The state in which the agent begins. \n",
    "\n",
    "We are going to begin with this initial state and start to reason about it. To think about what actions might we apply to that initial state in order to figure out how to get from the beginning to the end, from the initial position to whatever our goals happens to be.\n",
    "\n",
    "- **Actions**\n",
    "\n",
    "Actions that can be made in a state. \n",
    "\n",
    "More precisely, actions can be defined as a function. We're going to define a function called actions that takes an input **s**, where **s** is going to be some state that exists inside our environment, and actions of **s** (ACTIONS(s)) is going to state as input and return as output the set of all actions that can be exacuted in that state. \n",
    "\n",
    "It is possible that some actions only valid in certain states and not on other states.\n",
    "\n",
    "*Summary:* For some state s ACTIONS(s) -> set of all functions (possible in that space)\n",
    "\n",
    "- **Transition Model**\n",
    "\n",
    "A description of what state results from performing any applicable action in any state. \n",
    "\n",
    "More precisely, the transition model can be defined as a function. We are going to define a function called result but this time takes two inputs. Input #1 is **s**, some state. Input #2 **a**, some action. And the output of this function result is going to give us the state that we get after we perform action **a** in state **s** (RESULT(s, a)).\n",
    "\n",
    "- **State Space**\n",
    "\n",
    "The set of all states reachable from the initial state by any sequence of actions.\n",
    "\n",
    "\n",
    "#### How we know the AI is done solving the problem?\n",
    "\n",
    "- **Goal Test**\n",
    "\n",
    "Way to determine wheter a given state is a goal state. AI needs some way to know when it gets to the goal, that it's found the goal.\n",
    "\n",
    "- **Path Cost**\n",
    "\n",
    "Numerical cost associated with a given path. Somethimes, for some problems, finding goal well or finding the low cost solution might be what we need."
   ]
  },
  {
   "cell_type": "code",
   "execution_count": null,
   "id": "1c309f3d",
   "metadata": {},
   "outputs": [],
   "source": []
  },
  {
   "cell_type": "code",
   "execution_count": null,
   "id": "19625890",
   "metadata": {},
   "outputs": [],
   "source": []
  }
 ],
 "metadata": {
  "kernelspec": {
   "display_name": "Python 3 (ipykernel)",
   "language": "python",
   "name": "python3"
  },
  "language_info": {
   "codemirror_mode": {
    "name": "ipython",
    "version": 3
   },
   "file_extension": ".py",
   "mimetype": "text/x-python",
   "name": "python",
   "nbconvert_exporter": "python",
   "pygments_lexer": "ipython3",
   "version": "3.9.12"
  }
 },
 "nbformat": 4,
 "nbformat_minor": 5
}
